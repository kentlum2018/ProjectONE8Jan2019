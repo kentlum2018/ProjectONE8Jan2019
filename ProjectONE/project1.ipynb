{
 "cells": [
  {
   "cell_type": "code",
   "execution_count": null,
   "metadata": {},
   "outputs": [],
   "source": [
    "#pull all 12 months data\n",
    "#using FordGO from the SF Bay area and includes 5 cities"
   ]
  },
  {
   "cell_type": "code",
   "execution_count": null,
   "metadata": {},
   "outputs": [],
   "source": [
    "import zipfile, urllib.request, shutil\n",
    "import pandas as pd\n",
    "import glob\n",
    "import citipy\n",
    "import csv\n"
   ]
  },
  {
   "cell_type": "code",
   "execution_count": null,
   "metadata": {},
   "outputs": [],
   "source": [
    "#id the folder that has all the zip files\n",
    "#create a glob for the path and file names\n",
    "#create a empty list for holding everything \n",
    "path=r'../RawData'\n",
    "allfiles=glob.glob(path+\"/*.zip\")\n",
    "\n",
    "data_list=[]\n"
   ]
  },
  {
   "cell_type": "code",
   "execution_count": null,
   "metadata": {},
   "outputs": [],
   "source": [
    "# zip_list=[201801-fordgobike-tripdata.csv.zip,\n",
    "#           201802-fordgobike-tripdata.csv.zip,\n",
    "#           201803-fordgobike-tripdata.csv.zip,\n",
    "#           201804-fordgobike-tripdata.csv.zip,\n",
    "#          201805-fordgobike-tripdata.csv.zip,\n",
    "#          201806-fordgobike-tripdata.csv.zip,\n",
    "#          201807-fordgobike-tripdata.csv.zip,\n",
    "#          201808-fordgobike-tripdata.csv.zip,\n",
    "#          201809-fordgobike-tripdata.csv.zip,\n",
    "#          2018010-fordgobike-tripdata.csv.zip,\n",
    "#          2018011-fordgobike-tripdata.csv.zip,\n",
    "#          2018012-fordgobike-tripdata.csv.zip]"
   ]
  },
  {
   "cell_type": "code",
   "execution_count": null,
   "metadata": {},
   "outputs": [],
   "source": [
    "#list comprehend through the folder with all the zip files\n",
    "#append to the dataframe merging all the months\n",
    "\n",
    "for z_file in allfiles:\n",
    "    df=pd.read_csv(z_file, compression='zip',header=0,sep=',',quotechar='\"')\n",
    "    data_list.append(df)\n",
    "\n",
    "all_frame=pd.concat(data_list,axis=0,ignore_index=True)    "
   ]
  },
  {
   "cell_type": "code",
   "execution_count": null,
   "metadata": {},
   "outputs": [],
   "source": [
    "all_frame.head()"
   ]
  },
  {
   "cell_type": "code",
   "execution_count": null,
   "metadata": {},
   "outputs": [],
   "source": [
    "all_frame.shape\n",
    "#this is all the rows 1.863721M by 16"
   ]
  },
  {
   "cell_type": "code",
   "execution_count": null,
   "metadata": {},
   "outputs": [],
   "source": [
    "#create 2 new rows 1 for the zip code and one for the city name\n",
    "#city \n",
    "all_frame.insert(loc=7, column='city', value='abc')\n",
    "#zip codes\n",
    "all_frame.insert(loc=8, column='zip_code', value='123456')"
   ]
  },
  {
   "cell_type": "code",
   "execution_count": null,
   "metadata": {},
   "outputs": [],
   "source": [
    "#display new table\n",
    "all_frame.head()"
   ]
  },
  {
   "cell_type": "code",
   "execution_count": null,
   "metadata": {},
   "outputs": [],
   "source": [
    "#remove rows which have Nan values\n",
    "drop_frame= all_frame.dropna(axis=0,how='any',inplace=False)\n",
    "drop_frame.head()"
   ]
  },
  {
   "cell_type": "code",
   "execution_count": null,
   "metadata": {},
   "outputs": [],
   "source": [
    "drop_frame.shape"
   ]
  },
  {
   "cell_type": "code",
   "execution_count": null,
   "metadata": {},
   "outputs": [],
   "source": [
    "#zip code vs number of stations"
   ]
  },
  {
   "cell_type": "code",
   "execution_count": null,
   "metadata": {},
   "outputs": [],
   "source": [
    "# groupby male"
   ]
  },
  {
   "cell_type": "code",
   "execution_count": null,
   "metadata": {},
   "outputs": [],
   "source": [
    "#which males are consumers vs subscribers"
   ]
  },
  {
   "cell_type": "code",
   "execution_count": null,
   "metadata": {},
   "outputs": [],
   "source": [
    "# groupby feemale"
   ]
  },
  {
   "cell_type": "code",
   "execution_count": null,
   "metadata": {},
   "outputs": [],
   "source": [
    "#which females are consumers vs subscribers"
   ]
  },
  {
   "cell_type": "code",
   "execution_count": null,
   "metadata": {},
   "outputs": [],
   "source": [
    "# create the lat/long and make sure they are in the city limits"
   ]
  },
  {
   "cell_type": "code",
   "execution_count": null,
   "metadata": {},
   "outputs": [],
   "source": [
    "# map the lat/lng over a map of the city"
   ]
  },
  {
   "cell_type": "markdown",
   "metadata": {},
   "source": [
    "#look at the number of rides over the year"
   ]
  },
  {
   "cell_type": "code",
   "execution_count": null,
   "metadata": {},
   "outputs": [],
   "source": [
    "# id the ride length and then calc the 2sigma"
   ]
  },
  {
   "cell_type": "code",
   "execution_count": null,
   "metadata": {},
   "outputs": [],
   "source": [
    "do we keep these or are the ok"
   ]
  }
 ],
 "metadata": {
  "kernelspec": {
   "display_name": "Python 3",
   "language": "python",
   "name": "python3"
  },
  "language_info": {
   "codemirror_mode": {
    "name": "ipython",
    "version": 3
   },
   "file_extension": ".py",
   "mimetype": "text/x-python",
   "name": "python",
   "nbconvert_exporter": "python",
   "pygments_lexer": "ipython3",
   "version": "3.7.1"
  }
 },
 "nbformat": 4,
 "nbformat_minor": 2
}
